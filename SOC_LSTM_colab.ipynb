{
  "cells": [
    {
      "cell_type": "markdown",
      "metadata": {
        "id": "view-in-github",
        "colab_type": "text"
      },
      "source": [
        "<a href=\"https://colab.research.google.com/github/pnpsuM/SOC_LSTM/blob/colab/SOC_LSTM_colab.ipynb\" target=\"_parent\"><img src=\"https://colab.research.google.com/assets/colab-badge.svg\" alt=\"Open In Colab\"/></a>"
      ]
    },
    {
      "cell_type": "code",
      "execution_count": 5,
      "metadata": {
        "id": "QmMS0gyktocS"
      },
      "outputs": [],
      "source": [
        "import numpy as np\n",
        "import pandas as pd\n",
        "import matplotlib.pyplot as pl\n",
        "import tensorflow as tf \n",
        "from tensorflow import keras\n",
        "from keras import models, layers\n",
        "import keras.optimizers as op\n",
        "from keras.callbacks import ModelCheckpoint"
      ]
    },
    {
      "cell_type": "code",
      "source": [
        "from google.colab import drive\n",
        "drive.mount('/content/drive')"
      ],
      "metadata": {
        "colab": {
          "base_uri": "https://localhost:8080/"
        },
        "id": "meHobUHaygIa",
        "outputId": "aa86389e-a8d2-42b7-d3a2-e6fd563a41fd"
      },
      "execution_count": 6,
      "outputs": [
        {
          "output_type": "stream",
          "name": "stdout",
          "text": [
            "Drive already mounted at /content/drive; to attempt to forcibly remount, call drive.mount(\"/content/drive\", force_remount=True).\n"
          ]
        }
      ]
    },
    {
      "cell_type": "code",
      "execution_count": 7,
      "metadata": {
        "id": "r1_YNNTCvGj0"
      },
      "outputs": [],
      "source": [
        "data = pd.read_csv('/content/drive/MyDrive/Colab Notebooks/180801_RFB_510cy_006_DC.csv')\n",
        "data = data.drop(['시험_시간(s)', '사이클_번호', '사이클_시간(s)', '단계_번호', '단계_시간(s)', '인덱스', '보조전압1(V)', '보조전압2(V)', '보조전압3(V)', '온도(\\'C)', '전류_범위', 'OCP(V)', '파워(W)', '부하(Ohm)', '누적_용량(Ah)', '절대값_용량(Ah)'], axis = 1)\n",
        "data_voltage = data.copy()\n",
        "data_voltage = data_voltage.pop('전압(V)')"
      ]
    },
    {
      "cell_type": "code",
      "execution_count": 8,
      "metadata": {
        "id": "lPXSujjIvJ1k",
        "colab": {
          "base_uri": "https://localhost:8080/",
          "height": 356
        },
        "outputId": "790c833c-3c8f-4b91-ff08-0a75014efe07"
      },
      "outputs": [
        {
          "output_type": "stream",
          "name": "stdout",
          "text": [
            "data rows = 262407\n",
            "Index(['전류(A)', '전압(V)'], dtype='object')\n",
            "x = (262407, 2)\n",
            "y = (262407,)\n"
          ]
        },
        {
          "output_type": "execute_result",
          "data": {
            "text/plain": [
              "[<matplotlib.lines.Line2D at 0x7fa1d46e8510>]"
            ]
          },
          "metadata": {},
          "execution_count": 8
        },
        {
          "output_type": "display_data",
          "data": {
            "text/plain": [
              "<Figure size 432x288 with 1 Axes>"
            ],
            "image/png": "[encoded data removed]"
          },
          "metadata": {
            "needs_background": "light"
          }
        }
      ],
      "source": [
        "print(f'data rows = {data.shape[0]}')\n",
        "print(data.columns)\n",
        "data = data.values\n",
        "print(f'x = {data.shape}')\n",
        "print(f'y = {data_voltage.shape}')\n",
        "\n",
        "# for index in range(data.shape[0]):\n",
        "#     data[index, 0] = int(data[index, 0][3:5]) * 60 + int(data[index, 0][6:8])\n",
        "#     data[index, 2] = int(data[index, 2][3:5]) * 60 + int(data[index, 2][6:8])\n",
        "#     data[index, 4] = int(data[index, 4][3:5]) * 60 + int(data[index, 4][6:8])\n",
        "pl.plot(data_voltage[:4000])"
      ]
    },
    {
      "cell_type": "code",
      "execution_count": 9,
      "metadata": {
        "id": "13UF2HcvvRYN",
        "colab": {
          "base_uri": "https://localhost:8080/"
        },
        "outputId": "acac8b0b-c60c-4894-f875-be619a0d331f"
      },
      "outputs": [
        {
          "output_type": "stream",
          "name": "stdout",
          "text": [
            "num_batch = 1312\n",
            "x = (1312, 200, 2)\n",
            "y = (1312, 200)\n",
            "[1.173039  1.1802392 1.18315   1.184682  1.1857544 1.1868268]\n",
            "[1.1802392 1.18315   1.184682  1.1857544 1.1868268]\n"
          ]
        }
      ],
      "source": [
        "seq_len = 200\n",
        "num_batch = int(np.floor(data.shape[0] / seq_len))\n",
        "print(f'num_batch = {num_batch}')\n",
        "x_data = []\n",
        "y_data = []\n",
        "for batch in range(num_batch):\n",
        "    x_data.append(data[batch * seq_len:(batch + 1) * seq_len])\n",
        "    y_data.append(data_voltage[batch * seq_len + 1:(batch + 1) * seq_len + 1])\n",
        "x_data = np.array(x_data).astype(np.float32)\n",
        "y_data = np.array(y_data).astype(np.float32)\n",
        "print(f'x = {x_data.shape}')\n",
        "print(f'y = {y_data.shape}')\n",
        "print(x_data[0, 0:6, 1])\n",
        "print(y_data[0, 0:5])"
      ]
    },
    {
      "cell_type": "code",
      "execution_count": 10,
      "metadata": {
        "id": "w-wojZRJvUZX",
        "colab": {
          "base_uri": "https://localhost:8080/"
        },
        "outputId": "27ceea60-a6f4-48a6-b408-fb3f3620a8b8"
      },
      "outputs": [
        {
          "output_type": "stream",
          "name": "stdout",
          "text": [
            "984\n",
            "(984, 200)\n"
          ]
        }
      ],
      "source": [
        "split_len = int(round(num_batch * 0.75))\n",
        "print(split_len)\n",
        "x_train = x_data[:split_len]\n",
        "y_train = y_data[:split_len]\n",
        "x_test = x_data[split_len:]\n",
        "y_test = y_data[split_len:]\n",
        "print(y_train.shape)\n",
        "\n",
        "## 데이터 전처리 끝"
      ]
    },
    {
      "cell_type": "code",
      "execution_count": 12,
      "metadata": {
        "id": "3JHm-s8_vXKb",
        "colab": {
          "base_uri": "https://localhost:8080/"
        },
        "outputId": "0cd9aeb8-4a22-45ad-9e99-3a83b963c8ce"
      },
      "outputs": [
        {
          "output_type": "stream",
          "name": "stdout",
          "text": [
            "Model: \"sequential_1\"\n",
            "_________________________________________________________________\n",
            " Layer (type)                Output Shape              Param #   \n",
            "=================================================================\n",
            " lstm_2 (LSTM)               (None, None, 256)         265216    \n",
            "                                                                 \n",
            " dropout_2 (Dropout)         (None, None, 256)         0         \n",
            "                                                                 \n",
            " lstm_3 (LSTM)               (None, None, 256)         525312    \n",
            "                                                                 \n",
            " dropout_3 (Dropout)         (None, None, 256)         0         \n",
            "                                                                 \n",
            " time_distributed_1 (TimeDis  (None, None, 1)          257       \n",
            " tributed)                                                       \n",
            "                                                                 \n",
            "=================================================================\n",
            "Total params: 790,785\n",
            "Trainable params: 790,785\n",
            "Non-trainable params: 0\n",
            "_________________________________________________________________\n"
          ]
        }
      ],
      "source": [
        "loss_dict = {}\n",
        "num_units = 256\n",
        "num_epochs = 200\n",
        "batch_size = 123\n",
        "batch_index = 0\n",
        "model = models.Sequential()\n",
        "model.add(layers.LSTM(num_units, input_shape=(None, x_train.shape[2]), return_sequences=True))\n",
        "model.add(layers.Dropout(0.2))\n",
        "model.add(layers.LSTM(num_units, return_sequences=True))\n",
        "model.add(layers.Dropout(0.2))\n",
        "model.add(layers.TimeDistributed(layers.Dense(1)))\n",
        "model.compile(loss = 'mse', optimizer = 'Adam')\n",
        "callback_list = [ModelCheckpoint(filepath = f'Checkpoints\\SOC_Checkpoint_{seq_len}.h5', monitor = 'val_loss', save_best_only = True)]\n",
        "model.summary()"
      ]
    },
    {
      "cell_type": "code",
      "execution_count": null,
      "metadata": {
        "id": "F-tekwEGvaNI"
      },
      "outputs": [],
      "source": [
        "batch_index += batch_size\n",
        "fitdata = model.fit(x_train, y_train, epochs=num_epochs, verbose = 0, validation_split=1/8, callbacks=callback_list, batch_size=batch_size)\n",
        "model.load_weights(f'Checkpoints\\SOC_Checkpoint_{seq_len}.h5')\n",
        "loss = model.evaluate(x_test, y_test)\n",
        "loss_dict[f'loss_{batch_index}'] = loss\n",
        "prediction = model.predict(x_test)\n",
        "prediction = prediction.reshape(int(prediction.shape[0] * prediction.shape[1]), 1)\n",
        "y_graph = y_test.reshape(int(y_test.shape[0] * y_test.shape[1]), 1)\n",
        "print(prediction.shape, y_graph.shape)\n",
        "print(f'{num_units} units, {batch_index} epochs, sequence length = {seq_len}')\n",
        "pl.figure(dpi=150)\n",
        "pl.plot(prediction[:4000])"
      ]
    },
    {
      "cell_type": "code",
      "execution_count": null,
      "metadata": {
        "id": "dxHKB-CwvcXo"
      },
      "outputs": [],
      "source": [
        "batch_index += batch_size\n",
        "fitdata = model.fit(x_train, y_train, epochs=num_epochs, verbose = 0, validation_split=1/8, callbacks=callback_list, batch_size=batch_size)\n",
        "model.load_weights(f'Checkpoints\\SOC_Checkpoint_{seq_len}.h5')\n",
        "loss = model.evaluate(x_test, y_test)\n",
        "loss_dict[f'loss_{batch_index}'] = loss\n",
        "prediction = model.predict(x_test)\n",
        "prediction = prediction.reshape(int(prediction.shape[0] * prediction.shape[1]), 1)\n",
        "y_graph = y_test.reshape(int(y_test.shape[0] * y_test.shape[1]), 1)\n",
        "print(prediction.shape, y_graph.shape)\n",
        "print(f'{num_units} units, {batch_index} epochs, sequence length = {seq_len}')\n",
        "pl.figure(dpi=150)\n",
        "pl.plot(prediction[:4000])"
      ]
    },
    {
      "cell_type": "code",
      "execution_count": null,
      "metadata": {
        "id": "T_ra0oCFvfQq"
      },
      "outputs": [],
      "source": [
        "batch_index += batch_size\n",
        "fitdata = model.fit(x_train, y_train, epochs=num_epochs, verbose = 0, validation_split=1/8, callbacks=callback_list, batch_size=batch_size)\n",
        "model.load_weights(f'Checkpoints\\SOC_Checkpoint_{seq_len}.h5')\n",
        "loss = model.evaluate(x_test, y_test)\n",
        "loss_dict[f'loss_{batch_index}'] = loss\n",
        "prediction = model.predict(x_test)\n",
        "prediction = prediction.reshape(int(prediction.shape[0] * prediction.shape[1]), 1)\n",
        "y_graph = y_test.reshape(int(y_test.shape[0] * y_test.shape[1]), 1)\n",
        "print(prediction.shape, y_graph.shape)\n",
        "print(f'{num_units} units, {batch_index} epochs, sequence length = {seq_len}')\n",
        "pl.figure(dpi=150)\n",
        "pl.plot(prediction[:4000])"
      ]
    },
    {
      "cell_type": "code",
      "execution_count": null,
      "metadata": {
        "id": "OoaJxKXxviP-"
      },
      "outputs": [],
      "source": [
        "batch_index += batch_size\n",
        "fitdata = model.fit(x_train, y_train, epochs=num_epochs, verbose = 0, validation_split=1/8, callbacks=callback_list, batch_size=batch_size)\n",
        "model.load_weights(f'Checkpoints\\SOC_Checkpoint_{seq_len}.h5')\n",
        "loss = model.evaluate(x_test, y_test)\n",
        "loss_dict[f'loss_{batch_index}'] = loss\n",
        "prediction = model.predict(x_test)\n",
        "prediction = prediction.reshape(int(prediction.shape[0] * prediction.shape[1]), 1)\n",
        "y_graph = y_test.reshape(int(y_test.shape[0] * y_test.shape[1]), 1)\n",
        "print(prediction.shape, y_graph.shape)\n",
        "print(f'{num_units} units, {batch_index} epochs, sequence length = {seq_len}')\n",
        "pl.figure(dpi=150)\n",
        "pl.plot(prediction[:4000])"
      ]
    },
    {
      "cell_type": "code",
      "execution_count": null,
      "metadata": {
        "id": "lPK6pwptvkAx"
      },
      "outputs": [],
      "source": [
        "batch_index += batch_size\n",
        "fitdata = model.fit(x_train, y_train, epochs=num_epochs, verbose = 0, validation_split=1/8, callbacks=callback_list, batch_size=batch_size)\n",
        "model.load_weights(f'Checkpoints\\SOC_Checkpoint_{seq_len}.h5')\n",
        "loss = model.evaluate(x_test, y_test)\n",
        "loss_dict[f'loss_{batch_index}'] = loss\n",
        "prediction = model.predict(x_test)\n",
        "prediction = prediction.reshape(int(prediction.shape[0] * prediction.shape[1]), 1)\n",
        "y_graph = y_test.reshape(int(y_test.shape[0] * y_test.shape[1]), 1)\n",
        "print(prediction.shape, y_graph.shape)\n",
        "print(f'{num_units} units, {batch_index} epochs, sequence length = {seq_len}')\n",
        "pl.figure(dpi=150)\n",
        "pl.plot(prediction[:4000])\n",
        "print(loss_dict)"
      ]
    }
  ],
  "metadata": {
    "colab": {
      "collapsed_sections": [],
      "provenance": [],
      "include_colab_link": true
    },
    "kernelspec": {
      "display_name": "Python 3.10.6 64-bit",
      "language": "python",
      "name": "python3"
    },
    "language_info": {
      "codemirror_mode": {
        "name": "ipython",
        "version": 3
      },
      "file_extension": ".py",
      "mimetype": "text/x-python",
      "name": "python",
      "nbconvert_exporter": "python",
      "pygments_lexer": "ipython3",
      "version": "3.10.6"
    },
    "vscode": {
      "interpreter": {
        "hash": "b776e8a1ce9412d9556c02947d53a9e8ae7bbb4e7b1b579f7ffbe853627ce066"
      }
    }
  },
  "nbformat": 4,
  "nbformat_minor": 0
}