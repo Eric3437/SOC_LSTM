{
  "cells": [
    {
      "cell_type": "markdown",
      "metadata": {
        "colab_type": "text",
        "id": "view-in-github"
      },
      "source": [
        "<a href=\"https://colab.research.google.com/github/pnpsuM/SOC_LSTM/blob/colab/SOC_LSTM_colab.ipynb\" target=\"_parent\"><img src=\"https://colab.research.google.com/assets/colab-badge.svg\" alt=\"Open In Colab\"/></a>"
      ]
    },
    {
      "cell_type": "code",
      "execution_count": null,
      "metadata": {
        "id": "QmMS0gyktocS"
      },
      "outputs": [],
      "source": [
        "import numpy as np\n",
        "import pandas as pd\n",
        "import matplotlib.pyplot as pl\n",
        "import tensorflow as tf \n",
        "from tensorflow import keras\n",
        "from keras import models, layers\n",
        "import keras.optimizers as op\n",
        "from keras.callbacks import ModelCheckpoint"
      ]
    },
    {
      "cell_type": "code",
      "execution_count": null,
      "metadata": {
        "colab": {
          "base_uri": "https://localhost:8080/"
        },
        "id": "meHobUHaygIa",
        "outputId": "aa86389e-a8d2-42b7-d3a2-e6fd563a41fd"
      },
      "outputs": [],
      "source": [
        "from google.colab import drive\n",
        "drive.mount('/content/drive')"
      ]
    },
    {
      "cell_type": "code",
      "execution_count": null,
      "metadata": {
        "id": "r1_YNNTCvGj0"
      },
      "outputs": [],
      "source": [
        "data = pd.read_csv('/content/drive/MyDrive/Colab Notebooks/180801_RFB_510cy_006_DC.csv')\n",
        "data = data.drop(['시험_시간(s)', '사이클_번호', '사이클_시간(s)', '단계_번호', '단계_시간(s)', '인덱스', '보조전압1(V)', '보조전압2(V)', '보조전압3(V)', '온도(\\'C)', '전류_범위', 'OCP(V)', '파워(W)', '부하(Ohm)', '누적_용량(Ah)', '절대값_용량(Ah)'], axis = 1)\n",
        "# data_voltage = data.copy()\n",
        "data_voltage = data_voltage.pop('전압(V)')"
      ]
    },
    {
      "cell_type": "code",
      "execution_count": null,
      "metadata": {
        "colab": {
          "base_uri": "https://localhost:8080/",
          "height": 356
        },
        "id": "lPXSujjIvJ1k",
        "outputId": "790c833c-3c8f-4b91-ff08-0a75014efe07"
      },
      "outputs": [],
      "source": [
        "print(f'data rows = {data.shape[0]}')\n",
        "print(data.columns)\n",
        "data = data.values\n",
        "print(f'x = {data.shape}')\n",
        "print(f'y = {data_voltage.shape}')\n",
        "\n",
        "# for index in range(data.shape[0]):\n",
        "#     data[index, 0] = int(data[index, 0][3:5]) * 60 + int(data[index, 0][6:8])\n",
        "#     data[index, 2] = int(data[index, 2][3:5]) * 60 + int(data[index, 2][6:8])\n",
        "#     data[index, 4] = int(data[index, 4][3:5]) * 60 + int(data[index, 4][6:8])\n",
        "pl.plot(data_voltage[:4000])"
      ]
    },
    {
      "cell_type": "code",
      "execution_count": null,
      "metadata": {
        "colab": {
          "base_uri": "https://localhost:8080/"
        },
        "id": "13UF2HcvvRYN",
        "outputId": "acac8b0b-c60c-4894-f875-be619a0d331f"
      },
      "outputs": [],
      "source": [
        "seq_len = 200\n",
        "num_batch = int(np.floor(data.shape[0] / seq_len))\n",
        "print(f'num_batch = {num_batch}')\n",
        "x_data = []\n",
        "y_data = []\n",
        "for batch in range(num_batch):\n",
        "    x_data.append(data[batch * seq_len:(batch + 1) * seq_len])\n",
        "    y_data.append(data_voltage[batch * seq_len + 1:(batch + 1) * seq_len + 1])\n",
        "x_data = np.array(x_data).astype(np.float32)\n",
        "y_data = np.array(y_data).astype(np.float32)\n",
        "print(f'x = {x_data.shape}')\n",
        "print(f'y = {y_data.shape}')\n",
        "print(x_data[0, 0:6, 1])\n",
        "print(y_data[0, 0:5])"
      ]
    },
    {
      "cell_type": "code",
      "execution_count": null,
      "metadata": {
        "colab": {
          "base_uri": "https://localhost:8080/"
        },
        "id": "w-wojZRJvUZX",
        "outputId": "27ceea60-a6f4-48a6-b408-fb3f3620a8b8"
      },
      "outputs": [],
      "source": [
        "split_len = int(round(num_batch * 0.75))\n",
        "print(split_len)\n",
        "x_train = x_data[:split_len]\n",
        "y_train = y_data[:split_len]\n",
        "x_test = x_data[split_len:]\n",
        "y_test = y_data[split_len:]\n",
        "print(y_train.shape)\n",
        "\n",
        "## 데이터 전처리 끝"
      ]
    },
    {
      "cell_type": "code",
      "execution_count": null,
      "metadata": {
        "colab": {
          "base_uri": "https://localhost:8080/"
        },
        "id": "3JHm-s8_vXKb",
        "outputId": "0cd9aeb8-4a22-45ad-9e99-3a83b963c8ce"
      },
      "outputs": [],
      "source": [
        "loss_dict = {}\n",
        "num_units = 256\n",
        "num_epochs = 30\n",
        "batch_size = 123\n",
        "epoch_index = 0\n",
        "model = models.Sequential()\n",
        "model.add(layers.LSTM(num_units, input_shape=(None, x_train.shape[2]), return_sequences=True))\n",
        "model.add(layers.Dropout(0.2))\n",
        "model.add(layers.LSTM(num_units, return_sequences=True))\n",
        "model.add(layers.Dropout(0.2))\n",
        "model.add(layers.LSTM(num_units, return_sequences=True))\n",
        "model.add(layers.Dropout(0.2))\n",
        "model.add(layers.TimeDistributed(layers.Dense(1)))\n",
        "model.compile(loss = 'mse', optimizer = 'Adam')\n",
        "model.summary()"
      ]
    },
    {
      "cell_type": "code",
      "execution_count": null,
      "metadata": {
        "id": "F-tekwEGvaNI"
      },
      "outputs": [],
      "source": [
        "epoch_index += num_epochs\n",
        "callback_list = [ModelCheckpoint(filepath = f'Checkpoints\\SOC_Checkpoint_{epoch_index}.h5', monitor = 'val_loss', save_best_only = True)]\n",
        "fitdata = model.fit(x_train, y_train, epochs=num_epochs, verbose = 1, validation_split=1/8, callbacks=callback_list, batch_size=batch_size)"
      ]
    },
    {
      "cell_type": "code",
      "execution_count": null,
      "metadata": {
        "id": "dxHKB-CwvcXo"
      },
      "outputs": [],
      "source": [
        "model.load_weights(f'Checkpoints\\SOC_Checkpoint_{epoch_index}.h5')\n",
        "loss = model.evaluate(x_test, y_test)\n",
        "loss_dict[f'loss_{epoch_index}'] = loss\n",
        "prediction = model.predict(x_test)\n",
        "prediction = prediction.reshape(int(prediction.shape[0] * prediction.shape[1]), 1)\n",
        "y_graph = y_test.reshape(int(y_test.shape[0] * y_test.shape[1]), 1)\n",
        "print(prediction.shape, y_graph.shape)"
      ]
    },
    {
      "cell_type": "code",
      "execution_count": null,
      "metadata": {
        "id": "T_ra0oCFvfQq"
      },
      "outputs": [],
      "source": [
        "print(f'{num_units} units, {epoch_index} epochs, sequence length = {seq_len}')\n",
        "pl.figure(dpi=150)\n",
        "pl.plot(prediction[:4000])"
      ]
    },
    {
      "cell_type": "code",
      "execution_count": null,
      "metadata": {
        "id": "OoaJxKXxviP-"
      },
      "outputs": [],
      "source": [
        "epoch_index += num_epochs\n",
        "callback_list = [ModelCheckpoint(filepath = f'Checkpoints\\SOC_Checkpoint_{epoch_index}.h5', monitor = 'val_loss', save_best_only = True)]\n",
        "fitdata = model.fit(x_train, y_train, epochs=num_epochs, verbose = 0, validation_split=1/8, callbacks=callback_list, batch_size=batch_size)"
      ]
    },
    {
      "cell_type": "code",
      "execution_count": null,
      "metadata": {
        "id": "lPK6pwptvkAx"
      },
      "outputs": [],
      "source": [
        "model.load_weights(f'Checkpoints\\SOC_Checkpoint_{epoch_index}.h5')\n",
        "loss = model.evaluate(x_test, y_test)\n",
        "loss_dict[f'loss_{epoch_index}'] = loss\n",
        "prediction = model.predict(x_test)\n",
        "prediction = prediction.reshape(int(prediction.shape[0] * prediction.shape[1]), 1)\n",
        "y_graph = y_test.reshape(int(y_test.shape[0] * y_test.shape[1]), 1)\n",
        "print(prediction.shape, y_graph.shape)"
      ]
    },
    {
      "cell_type": "code",
      "execution_count": null,
      "metadata": {},
      "outputs": [],
      "source": [
        "print(f'{num_units} units, {epoch_index} epochs, sequence length = {seq_len}')\n",
        "pl.figure(dpi=150)\n",
        "pl.plot(prediction[:4000])"
      ]
    },
    {
      "cell_type": "code",
      "execution_count": null,
      "metadata": {},
      "outputs": [],
      "source": [
        "epoch_index += num_epochs\n",
        "callback_list = [ModelCheckpoint(filepath = f'Checkpoints\\SOC_Checkpoint_{epoch_index}.h5', monitor = 'val_loss', save_best_only = True)]\n",
        "fitdata = model.fit(x_train, y_train, epochs=num_epochs, verbose = 0, validation_split=1/8, callbacks=callback_list, batch_size=batch_size)"
      ]
    },
    {
      "cell_type": "code",
      "execution_count": null,
      "metadata": {},
      "outputs": [],
      "source": [
        "model.load_weights(f'Checkpoints\\SOC_Checkpoint_{epoch_index}.h5')\n",
        "loss = model.evaluate(x_test, y_test)\n",
        "loss_dict[f'loss_{epoch_index}'] = loss\n",
        "prediction = model.predict(x_test)\n",
        "prediction = prediction.reshape(int(prediction.shape[0] * prediction.shape[1]), 1)\n",
        "y_graph = y_test.reshape(int(y_test.shape[0] * y_test.shape[1]), 1)\n",
        "print(prediction.shape, y_graph.shape)"
      ]
    },
    {
      "cell_type": "code",
      "execution_count": null,
      "metadata": {},
      "outputs": [],
      "source": [
        "print(f'{num_units} units, {epoch_index} epochs, sequence length = {seq_len}')\n",
        "pl.figure(dpi=150)\n",
        "pl.plot(prediction[:4000])"
      ]
    },
    {
      "cell_type": "code",
      "execution_count": null,
      "metadata": {},
      "outputs": [],
      "source": [
        "epoch_index += num_epochs\n",
        "callback_list = [ModelCheckpoint(filepath = f'Checkpoints\\SOC_Checkpoint_{epoch_index}.h5', monitor = 'val_loss', save_best_only = True)]\n",
        "fitdata = model.fit(x_train, y_train, epochs=num_epochs, verbose = 0, validation_split=1/8, callbacks=callback_list, batch_size=batch_size)"
      ]
    },
    {
      "cell_type": "code",
      "execution_count": null,
      "metadata": {},
      "outputs": [],
      "source": [
        "model.load_weights(f'Checkpoints\\SOC_Checkpoint_{epoch_index}.h5')\n",
        "loss = model.evaluate(x_test, y_test)\n",
        "loss_dict[f'loss_{epoch_index}'] = loss\n",
        "prediction = model.predict(x_test)\n",
        "prediction = prediction.reshape(int(prediction.shape[0] * prediction.shape[1]), 1)\n",
        "y_graph = y_test.reshape(int(y_test.shape[0] * y_test.shape[1]), 1)\n",
        "print(prediction.shape, y_graph.shape)"
      ]
    },
    {
      "cell_type": "code",
      "execution_count": null,
      "metadata": {},
      "outputs": [],
      "source": [
        "print(f'{num_units} units, {epoch_index} epochs, sequence length = {seq_len}')\n",
        "pl.figure(dpi=150)\n",
        "pl.plot(prediction[:4000])"
      ]
    },
    {
      "cell_type": "code",
      "execution_count": null,
      "metadata": {},
      "outputs": [],
      "source": [
        "epoch_index += num_epochs\n",
        "callback_list = [ModelCheckpoint(filepath = f'Checkpoints\\SOC_Checkpoint_{epoch_index}.h5', monitor = 'val_loss', save_best_only = True)]\n",
        "fitdata = model.fit(x_train, y_train, epochs=num_epochs, verbose = 0, validation_split=1/8, callbacks=callback_list, batch_size=batch_size)"
      ]
    },
    {
      "cell_type": "code",
      "execution_count": null,
      "metadata": {},
      "outputs": [],
      "source": [
        "model.load_weights(f'Checkpoints\\SOC_Checkpoint_{epoch_index}.h5')\n",
        "loss = model.evaluate(x_test, y_test)\n",
        "loss_dict[f'loss_{epoch_index}'] = loss\n",
        "prediction = model.predict(x_test)\n",
        "prediction = prediction.reshape(int(prediction.shape[0] * prediction.shape[1]), 1)\n",
        "y_graph = y_test.reshape(int(y_test.shape[0] * y_test.shape[1]), 1)\n",
        "print(prediction.shape, y_graph.shape)\n",
        "print(f'{num_units} units, {epoch_index} epochs, sequence length = {seq_len}')"
      ]
    },
    {
      "cell_type": "code",
      "execution_count": null,
      "metadata": {},
      "outputs": [],
      "source": [
        "pl.figure(dpi=150)\n",
        "pl.plot(prediction[:4000])\n",
        "print(loss_dict)"
      ]
    }
  ],
  "metadata": {
    "colab": {
      "collapsed_sections": [],
      "include_colab_link": true,
      "provenance": []
    },
    "kernelspec": {
      "display_name": "Python 3.10.6 64-bit",
      "language": "python",
      "name": "python3"
    },
    "language_info": {
      "codemirror_mode": {
        "name": "ipython",
        "version": 3
      },
      "file_extension": ".py",
      "mimetype": "text/x-python",
      "name": "python",
      "nbconvert_exporter": "python",
      "pygments_lexer": "ipython3",
      "version": "3.10.6"
    },
    "vscode": {
      "interpreter": {
        "hash": "b776e8a1ce9412d9556c02947d53a9e8ae7bbb4e7b1b579f7ffbe853627ce066"
      }
    }
  },
  "nbformat": 4,
  "nbformat_minor": 0
}
