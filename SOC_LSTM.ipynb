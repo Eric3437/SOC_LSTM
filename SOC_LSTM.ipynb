{
  "nbformat": 4,
  "nbformat_minor": 0,
  "metadata": {
    "colab": {
      "provenance": [],
      "collapsed_sections": [],
      "authorship_tag": "ABX9TyMS7RH3+oF5esOKMM2Mi/VU",
      "include_colab_link": true
    },
    "kernelspec": {
      "name": "python3",
      "display_name": "Python 3"
    },
    "language_info": {
      "name": "python"
    }
  },
  "cells": [
    {
      "cell_type": "markdown",
      "metadata": {
        "id": "view-in-github",
        "colab_type": "text"
      },
      "source": [
        "<a href=\"https://colab.research.google.com/github/pnpsuM/SOC_LSTM/blob/junyoung/SOC_LSTM.ipynb\" target=\"_parent\"><img src=\"https://colab.research.google.com/assets/colab-badge.svg\" alt=\"Open In Colab\"/></a>"
      ]
    },
    {
      "cell_type": "code",
      "execution_count": 3,
      "metadata": {
        "id": "QmMS0gyktocS"
      },
      "outputs": [],
      "source": [
        "import numpy as np # 배열 연산 특화 라이브러리\n",
        "import pandas as pd # 데이터프레임\n",
        "import matplotlib.pyplot as pl # 시각화\n",
        "import tensorflow as tf # AI 모델 구축 (이 아래는 모델 구축에 필요한 세부 기능)\n",
        "from tensorflow import keras\n",
        "from keras import models, layers\n",
        "import keras.optimizers as op\n",
        "from keras.callbacks import ModelCheckpoint, TensorBoard"
      ]
    },
    {
      "cell_type": "code",
      "source": [
        "from google.colab import files\n",
        "import io\n",
        "f = files.upload()\n",
        "data = pd.read_csv(io.StringIO(f['180801_RFB_510cy_006_DC.csv'].decode('utf-8')))\n",
        "data = data.drop(['시험_시간(s)', '사이클_번호', '사이클_시간(s)', '단계_번호', '단계_시간(s)', '인덱스', '보조전압1(V)', '보조전압2(V)', '보조전압3(V)', '온도(\\'C)', '전류_범위', 'OCP(V)', '파워(W)', '부하(Ohm)', '누적_용량(Ah)', '절대값_용량(Ah)'], axis = 1)\n",
        "data_voltage = data.copy()\n",
        "data_voltage = data_voltage.pop('전압(V)')"
      ],
      "metadata": {
        "colab": {
          "base_uri": "https://localhost:8080/",
          "height": 323
        },
        "id": "r1_YNNTCvGj0",
        "outputId": "8967b2e3-59b4-45f9-d312-a674500ac359"
      },
      "execution_count": 7,
      "outputs": [
        {
          "output_type": "display_data",
          "data": {
            "text/plain": [
              "<IPython.core.display.HTML object>"
            ],
            "text/html": [
              "\n",
              "     <input type=\"file\" id=\"files-a8d5c6a1-0fe8-4c11-9dee-9b72b17f2d58\" name=\"files[]\" multiple disabled\n",
              "        style=\"border:none\" />\n",
              "     <output id=\"result-a8d5c6a1-0fe8-4c11-9dee-9b72b17f2d58\">\n",
              "      Upload widget is only available when the cell has been executed in the\n",
              "      current browser session. Please rerun this cell to enable.\n",
              "      </output>\n",
              "      <script>// Copyright 2017 Google LLC\n",
              "//\n",
              "// Licensed under the Apache License, Version 2.0 (the \"License\");\n",
              "// you may not use this file except in compliance with the License.\n",
              "// You may obtain a copy of the License at\n",
              "//\n",
              "//      http://www.apache.org/licenses/LICENSE-2.0\n",
              "//\n",
              "// Unless required by applicable law or agreed to in writing, software\n",
              "// distributed under the License is distributed on an \"AS IS\" BASIS,\n",
              "// WITHOUT WARRANTIES OR CONDITIONS OF ANY KIND, either express or implied.\n",
              "// See the License for the specific language governing permissions and\n",
              "// limitations under the License.\n",
              "\n",
              "/**\n",
              " * @fileoverview Helpers for google.colab Python module.\n",
              " */\n",
              "(function(scope) {\n",
              "function span(text, styleAttributes = {}) {\n",
              "  const element = document.createElement('span');\n",
              "  element.textContent = text;\n",
              "  for (const key of Object.keys(styleAttributes)) {\n",
              "    element.style[key] = styleAttributes[key];\n",
              "  }\n",
              "  return element;\n",
              "}\n",
              "\n",
              "// Max number of bytes which will be uploaded at a time.\n",
              "const MAX_PAYLOAD_SIZE = 100 * 1024;\n",
              "\n",
              "function _uploadFiles(inputId, outputId) {\n",
              "  const steps = uploadFilesStep(inputId, outputId);\n",
              "  const outputElement = document.getElementById(outputId);\n",
              "  // Cache steps on the outputElement to make it available for the next call\n",
              "  // to uploadFilesContinue from Python.\n",
              "  outputElement.steps = steps;\n",
              "\n",
              "  return _uploadFilesContinue(outputId);\n",
              "}\n",
              "\n",
              "// This is roughly an async generator (not supported in the browser yet),\n",
              "// where there are multiple asynchronous steps and the Python side is going\n",
              "// to poll for completion of each step.\n",
              "// This uses a Promise to block the python side on completion of each step,\n",
              "// then passes the result of the previous step as the input to the next step.\n",
              "function _uploadFilesContinue(outputId) {\n",
              "  const outputElement = document.getElementById(outputId);\n",
              "  const steps = outputElement.steps;\n",
              "\n",
              "  const next = steps.next(outputElement.lastPromiseValue);\n",
              "  return Promise.resolve(next.value.promise).then((value) => {\n",
              "    // Cache the last promise value to make it available to the next\n",
              "    // step of the generator.\n",
              "    outputElement.lastPromiseValue = value;\n",
              "    return next.value.response;\n",
              "  });\n",
              "}\n",
              "\n",
              "/**\n",
              " * Generator function which is called between each async step of the upload\n",
              " * process.\n",
              " * @param {string} inputId Element ID of the input file picker element.\n",
              " * @param {string} outputId Element ID of the output display.\n",
              " * @return {!Iterable<!Object>} Iterable of next steps.\n",
              " */\n",
              "function* uploadFilesStep(inputId, outputId) {\n",
              "  const inputElement = document.getElementById(inputId);\n",
              "  inputElement.disabled = false;\n",
              "\n",
              "  const outputElement = document.getElementById(outputId);\n",
              "  outputElement.innerHTML = '';\n",
              "\n",
              "  const pickedPromise = new Promise((resolve) => {\n",
              "    inputElement.addEventListener('change', (e) => {\n",
              "      resolve(e.target.files);\n",
              "    });\n",
              "  });\n",
              "\n",
              "  const cancel = document.createElement('button');\n",
              "  inputElement.parentElement.appendChild(cancel);\n",
              "  cancel.textContent = 'Cancel upload';\n",
              "  const cancelPromise = new Promise((resolve) => {\n",
              "    cancel.onclick = () => {\n",
              "      resolve(null);\n",
              "    };\n",
              "  });\n",
              "\n",
              "  // Wait for the user to pick the files.\n",
              "  const files = yield {\n",
              "    promise: Promise.race([pickedPromise, cancelPromise]),\n",
              "    response: {\n",
              "      action: 'starting',\n",
              "    }\n",
              "  };\n",
              "\n",
              "  cancel.remove();\n",
              "\n",
              "  // Disable the input element since further picks are not allowed.\n",
              "  inputElement.disabled = true;\n",
              "\n",
              "  if (!files) {\n",
              "    return {\n",
              "      response: {\n",
              "        action: 'complete',\n",
              "      }\n",
              "    };\n",
              "  }\n",
              "\n",
              "  for (const file of files) {\n",
              "    const li = document.createElement('li');\n",
              "    li.append(span(file.name, {fontWeight: 'bold'}));\n",
              "    li.append(span(\n",
              "        `(${file.type || 'n/a'}) - ${file.size} bytes, ` +\n",
              "        `last modified: ${\n",
              "            file.lastModifiedDate ? file.lastModifiedDate.toLocaleDateString() :\n",
              "                                    'n/a'} - `));\n",
              "    const percent = span('0% done');\n",
              "    li.appendChild(percent);\n",
              "\n",
              "    outputElement.appendChild(li);\n",
              "\n",
              "    const fileDataPromise = new Promise((resolve) => {\n",
              "      const reader = new FileReader();\n",
              "      reader.onload = (e) => {\n",
              "        resolve(e.target.result);\n",
              "      };\n",
              "      reader.readAsArrayBuffer(file);\n",
              "    });\n",
              "    // Wait for the data to be ready.\n",
              "    let fileData = yield {\n",
              "      promise: fileDataPromise,\n",
              "      response: {\n",
              "        action: 'continue',\n",
              "      }\n",
              "    };\n",
              "\n",
              "    // Use a chunked sending to avoid message size limits. See b/62115660.\n",
              "    let position = 0;\n",
              "    do {\n",
              "      const length = Math.min(fileData.byteLength - position, MAX_PAYLOAD_SIZE);\n",
              "      const chunk = new Uint8Array(fileData, position, length);\n",
              "      position += length;\n",
              "\n",
              "      const base64 = btoa(String.fromCharCode.apply(null, chunk));\n",
              "      yield {\n",
              "        response: {\n",
              "          action: 'append',\n",
              "          file: file.name,\n",
              "          data: base64,\n",
              "        },\n",
              "      };\n",
              "\n",
              "      let percentDone = fileData.byteLength === 0 ?\n",
              "          100 :\n",
              "          Math.round((position / fileData.byteLength) * 100);\n",
              "      percent.textContent = `${percentDone}% done`;\n",
              "\n",
              "    } while (position < fileData.byteLength);\n",
              "  }\n",
              "\n",
              "  // All done.\n",
              "  yield {\n",
              "    response: {\n",
              "      action: 'complete',\n",
              "    }\n",
              "  };\n",
              "}\n",
              "\n",
              "scope.google = scope.google || {};\n",
              "scope.google.colab = scope.google.colab || {};\n",
              "scope.google.colab._files = {\n",
              "  _uploadFiles,\n",
              "  _uploadFilesContinue,\n",
              "};\n",
              "})(self);\n",
              "</script> "
            ]
          },
          "metadata": {}
        },
        {
          "output_type": "stream",
          "name": "stdout",
          "text": [
            "Saving 180801_RFB_510cy_006_DC.csv to 180801_RFB_510cy_006_DC (1).csv\n"
          ]
        },
        {
          "output_type": "error",
          "ename": "KeyError",
          "evalue": "ignored",
          "traceback": [
            "\u001b[0;31m---------------------------------------------------------------------------\u001b[0m",
            "\u001b[0;31mKeyError\u001b[0m                                  Traceback (most recent call last)",
            "\u001b[0;32m<ipython-input-7-4a175d5a94bd>\u001b[0m in \u001b[0;36m<module>\u001b[0;34m\u001b[0m\n\u001b[1;32m      2\u001b[0m \u001b[0;32mimport\u001b[0m \u001b[0mio\u001b[0m\u001b[0;34m\u001b[0m\u001b[0;34m\u001b[0m\u001b[0m\n\u001b[1;32m      3\u001b[0m \u001b[0mf\u001b[0m \u001b[0;34m=\u001b[0m \u001b[0mfiles\u001b[0m\u001b[0;34m.\u001b[0m\u001b[0mupload\u001b[0m\u001b[0;34m(\u001b[0m\u001b[0;34m)\u001b[0m\u001b[0;34m\u001b[0m\u001b[0;34m\u001b[0m\u001b[0m\n\u001b[0;32m----> 4\u001b[0;31m \u001b[0mdata\u001b[0m \u001b[0;34m=\u001b[0m \u001b[0mpd\u001b[0m\u001b[0;34m.\u001b[0m\u001b[0mread_csv\u001b[0m\u001b[0;34m(\u001b[0m\u001b[0mio\u001b[0m\u001b[0;34m.\u001b[0m\u001b[0mStringIO\u001b[0m\u001b[0;34m(\u001b[0m\u001b[0mf\u001b[0m\u001b[0;34m[\u001b[0m\u001b[0;34m'tips.csv'\u001b[0m\u001b[0;34m]\u001b[0m\u001b[0;34m.\u001b[0m\u001b[0mdecode\u001b[0m\u001b[0;34m(\u001b[0m\u001b[0;34m'utf-8'\u001b[0m\u001b[0;34m)\u001b[0m\u001b[0;34m)\u001b[0m\u001b[0;34m)\u001b[0m\u001b[0;34m\u001b[0m\u001b[0;34m\u001b[0m\u001b[0m\n\u001b[0m\u001b[1;32m      5\u001b[0m \u001b[0mdata\u001b[0m \u001b[0;34m=\u001b[0m \u001b[0mdata\u001b[0m\u001b[0;34m.\u001b[0m\u001b[0mdrop\u001b[0m\u001b[0;34m(\u001b[0m\u001b[0;34m[\u001b[0m\u001b[0;34m'시험_시간(s)'\u001b[0m\u001b[0;34m,\u001b[0m \u001b[0;34m'사이클_번호'\u001b[0m\u001b[0;34m,\u001b[0m \u001b[0;34m'사이클_시간(s)'\u001b[0m\u001b[0;34m,\u001b[0m \u001b[0;34m'단계_번호'\u001b[0m\u001b[0;34m,\u001b[0m \u001b[0;34m'단계_시간(s)'\u001b[0m\u001b[0;34m,\u001b[0m \u001b[0;34m'인덱스'\u001b[0m\u001b[0;34m,\u001b[0m \u001b[0;34m'보조전압1(V)'\u001b[0m\u001b[0;34m,\u001b[0m \u001b[0;34m'보조전압2(V)'\u001b[0m\u001b[0;34m,\u001b[0m \u001b[0;34m'보조전압3(V)'\u001b[0m\u001b[0;34m,\u001b[0m \u001b[0;34m'온도(\\'C)'\u001b[0m\u001b[0;34m,\u001b[0m \u001b[0;34m'전류_범위'\u001b[0m\u001b[0;34m,\u001b[0m \u001b[0;34m'OCP(V)'\u001b[0m\u001b[0;34m,\u001b[0m \u001b[0;34m'파워(W)'\u001b[0m\u001b[0;34m,\u001b[0m \u001b[0;34m'부하(Ohm)'\u001b[0m\u001b[0;34m,\u001b[0m \u001b[0;34m'누적_용량(Ah)'\u001b[0m\u001b[0;34m,\u001b[0m \u001b[0;34m'절대값_용량(Ah)'\u001b[0m\u001b[0;34m]\u001b[0m\u001b[0;34m,\u001b[0m \u001b[0maxis\u001b[0m \u001b[0;34m=\u001b[0m \u001b[0;36m1\u001b[0m\u001b[0;34m)\u001b[0m\u001b[0;34m\u001b[0m\u001b[0;34m\u001b[0m\u001b[0m\n\u001b[1;32m      6\u001b[0m \u001b[0mdata_voltage\u001b[0m \u001b[0;34m=\u001b[0m \u001b[0mdata\u001b[0m\u001b[0;34m.\u001b[0m\u001b[0mcopy\u001b[0m\u001b[0;34m(\u001b[0m\u001b[0;34m)\u001b[0m\u001b[0;34m\u001b[0m\u001b[0;34m\u001b[0m\u001b[0m\n",
            "\u001b[0;31mKeyError\u001b[0m: 'tips.csv'"
          ]
        }
      ]
    },
    {
      "cell_type": "code",
      "source": [
        "print(f'data rows = {data.shape[0]}')\n",
        "print(data.columns)\n",
        "data = data.values\n",
        "print(f'x = {data.shape}')\n",
        "print(f'y = {data_voltage.shape}')\n",
        "\n",
        "# for index in range(data.shape[0]):\n",
        "#     data[index, 0] = int(data[index, 0][3:5]) * 60 + int(data[index, 0][6:8])\n",
        "#     data[index, 2] = int(data[index, 2][3:5]) * 60 + int(data[index, 2][6:8])\n",
        "#     data[index, 4] = int(data[index, 4][3:5]) * 60 + int(data[index, 4][6:8])\n",
        "pl.plot(data_voltage[:4000])"
      ],
      "metadata": {
        "id": "lPXSujjIvJ1k"
      },
      "execution_count": null,
      "outputs": []
    },
    {
      "cell_type": "code",
      "source": [
        "seq_len = 200\n",
        "num_batch = int(np.floor(data.shape[0] / seq_len))\n",
        "print(f'num_batch = {num_batch}')\n",
        "x_data = []\n",
        "y_data = []\n",
        "for batch in range(num_batch):\n",
        "    x_data.append(data[batch * seq_len:(batch + 1) * seq_len])\n",
        "    y_data.append(data_voltage[batch * seq_len + 1:(batch + 1) * seq_len + 1])\n",
        "x_data = np.array(x_data).astype(np.float32)\n",
        "y_data = np.array(y_data).astype(np.float32)\n",
        "print(f'x = {x_data.shape}')\n",
        "print(f'y = {y_data.shape}')\n",
        "print(x_data[0, 0:6, 1])\n",
        "print(y_data[0, 0:5])"
      ],
      "metadata": {
        "id": "13UF2HcvvRYN"
      },
      "execution_count": null,
      "outputs": []
    },
    {
      "cell_type": "code",
      "source": [
        "split_len = int(round(num_batch * 0.75))\n",
        "print(split_len)\n",
        "x_train = x_data[:split_len]\n",
        "y_train = y_data[:split_len]\n",
        "x_test = x_data[split_len:]\n",
        "y_test = y_data[split_len:]\n",
        "print(y_train.shape)\n",
        "\n",
        "## 데이터 전처리 끝"
      ],
      "metadata": {
        "id": "w-wojZRJvUZX"
      },
      "execution_count": null,
      "outputs": []
    },
    {
      "cell_type": "code",
      "source": [
        "loss_dict = {}\n",
        "num_units = 256\n",
        "num_epochs = 200\n",
        "batch_size = 123\n",
        "batch_index = 0\n",
        "adam = Adam()\n",
        "model = models.Sequential()\n",
        "model.add(layers.LSTM(num_units, input_shape=(None, x_train.shape[2]), return_sequences=True))\n",
        "model.add(layers.Dropout(0.2))\n",
        "model.add(layers.LSTM(num_units, return_sequences=True))\n",
        "model.add(layers.Dropout(0.2))\n",
        "model.add(layers.TimeDistributed(layers.Dense(1)))\n",
        "model.compile(loss = 'mse', optimizer=adam)\n",
        "callback_list = [ModelCheckpoint(filepath = f'Checkpoints\\SOC_Checkpoint_{seq_len}.h5', monitor = 'val_loss', save_best_only = True)]\n",
        "model.summary()"
      ],
      "metadata": {
        "id": "3JHm-s8_vXKb"
      },
      "execution_count": null,
      "outputs": []
    },
    {
      "cell_type": "code",
      "source": [
        "#200\n",
        "batch_index += batch_size\n",
        "fitdata = model.fit(x_train, y_train, epochs=num_epochs, verbose = 0, validation_split=1/8, callbacks=callback_list, batch_size=batch_size)\n",
        "model.load_weights(f'Checkpoints\\SOC_Checkpoint_{seq_len}.h5')\n",
        "loss = model.evaluate(x_test, y_test)\n",
        "loss_dict[f'loss_{batch_index}'] = loss\n",
        "prediction = model.predict(x_test)\n",
        "prediction = prediction.reshape(int(prediction.shape[0] * prediction.shape[1]), 1)\n",
        "y_graph = y_test.reshape(int(y_test.shape[0] * y_test.shape[1]), 1)\n",
        "print(prediction.shape, y_graph.shape)\n",
        "print(f'{num_units} units, {batch_index} epochs, sequence length = {seq_len}')\n",
        "pl.figure(dpi=150)\n",
        "pl.plot(prediction[:4000])"
      ],
      "metadata": {
        "id": "F-tekwEGvaNI"
      },
      "execution_count": null,
      "outputs": []
    },
    {
      "cell_type": "code",
      "source": [
        "#400\n",
        "batch_index += batch_size\n",
        "fitdata = model.fit(x_train, y_train, epochs=num_epochs, verbose = 0, validation_split=1/8, callbacks=callback_list, batch_size=batch_size)\n",
        "model.load_weights(f'Checkpoints\\SOC_Checkpoint_{seq_len}.h5')\n",
        "loss = model.evaluate(x_test, y_test)\n",
        "loss_dict[f'loss_{batch_index}'] = loss\n",
        "prediction = model.predict(x_test)\n",
        "prediction = prediction.reshape(int(prediction.shape[0] * prediction.shape[1]), 1)\n",
        "y_graph = y_test.reshape(int(y_test.shape[0] * y_test.shape[1]), 1)\n",
        "print(prediction.shape, y_graph.shape)\n",
        "print(f'{num_units} units, {batch_index} epochs, sequence length = {seq_len}')\n",
        "pl.figure(dpi=150)\n",
        "pl.plot(prediction[:4000])"
      ],
      "metadata": {
        "id": "dxHKB-CwvcXo"
      },
      "execution_count": null,
      "outputs": []
    },
    {
      "cell_type": "code",
      "source": [
        "#600\n",
        "batch_index += batch_size\n",
        "fitdata = model.fit(x_train, y_train, epochs=num_epochs, verbose = 0, validation_split=1/8, callbacks=callback_list, batch_size=batch_size)\n",
        "model.load_weights(f'Checkpoints\\SOC_Checkpoint_{seq_len}.h5')\n",
        "loss = model.evaluate(x_test, y_test)\n",
        "loss_dict[f'loss_{batch_index}'] = loss\n",
        "prediction = model.predict(x_test)\n",
        "prediction = prediction.reshape(int(prediction.shape[0] * prediction.shape[1]), 1)\n",
        "y_graph = y_test.reshape(int(y_test.shape[0] * y_test.shape[1]), 1)\n",
        "print(prediction.shape, y_graph.shape)\n",
        "print(f'{num_units} units, {batch_index} epochs, sequence length = {seq_len}')\n",
        "pl.figure(dpi=150)\n",
        "pl.plot(prediction[:4000])"
      ],
      "metadata": {
        "id": "T_ra0oCFvfQq"
      },
      "execution_count": null,
      "outputs": []
    },
    {
      "cell_type": "code",
      "source": [
        "#800\n",
        "batch_index += batch_size\n",
        "fitdata = model.fit(x_train, y_train, epochs=num_epochs, verbose = 0, validation_split=1/8, callbacks=callback_list, batch_size=batch_size)\n",
        "model.load_weights(f'Checkpoints\\SOC_Checkpoint_{seq_len}.h5')\n",
        "loss = model.evaluate(x_test, y_test)\n",
        "loss_dict[f'loss_{batch_index}'] = loss\n",
        "prediction = model.predict(x_test)\n",
        "prediction = prediction.reshape(int(prediction.shape[0] * prediction.shape[1]), 1)\n",
        "y_graph = y_test.reshape(int(y_test.shape[0] * y_test.shape[1]), 1)\n",
        "print(prediction.shape, y_graph.shape)\n",
        "print(f'{num_units} units, {batch_index} epochs, sequence length = {seq_len}')\n",
        "pl.figure(dpi=150)\n",
        "pl.plot(prediction[:4000])"
      ],
      "metadata": {
        "id": "OoaJxKXxviP-"
      },
      "execution_count": null,
      "outputs": []
    },
    {
      "cell_type": "code",
      "source": [
        "#1000\n",
        "batch_index += batch_size\n",
        "fitdata = model.fit(x_train, y_train, epochs=num_epochs, verbose = 0, validation_split=1/8, callbacks=callback_list, batch_size=batch_size)\n",
        "model.load_weights(f'Checkpoints\\SOC_Checkpoint_{seq_len}.h5')\n",
        "loss = model.evaluate(x_test, y_test)\n",
        "loss_dict[f'loss_{batch_index}'] = loss\n",
        "prediction = model.predict(x_test)\n",
        "prediction = prediction.reshape(int(prediction.shape[0] * prediction.shape[1]), 1)\n",
        "y_graph = y_test.reshape(int(y_test.shape[0] * y_test.shape[1]), 1)\n",
        "print(prediction.shape, y_graph.shape)\n",
        "print(f'{num_units} units, {batch_index} epochs, sequence length = {seq_len}')\n",
        "pl.figure(dpi=150)\n",
        "pl.plot(prediction[:4000])\n",
        "print(loss_dict)"
      ],
      "metadata": {
        "id": "lPK6pwptvkAx"
      },
      "execution_count": null,
      "outputs": []
    }
  ]
}