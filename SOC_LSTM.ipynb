{
  "nbformat": 4,
  "nbformat_minor": 0,
  "metadata": {
    "colab": {
      "provenance": [],
      "collapsed_sections": [],
      "authorship_tag": "ABX9TyNMJtcKYACcsrMYe3kG6KHE",
      "include_colab_link": true
    },
    "kernelspec": {
      "name": "python3",
      "display_name": "Python 3"
    },
    "language_info": {
      "name": "python"
    }
  },
  "cells": [
    {
      "cell_type": "markdown",
      "metadata": {
        "id": "view-in-github",
        "colab_type": "text"
      },
      "source": [
        "<a href=\"https://colab.research.google.com/github/pnpsuM/SOC_LSTM/blob/junyoung/SOC_LSTM.ipynb\" target=\"_parent\"><img src=\"https://colab.research.google.com/assets/colab-badge.svg\" alt=\"Open In Colab\"/></a>"
      ]
    },
    {
      "cell_type": "code",
      "execution_count": null,
      "metadata": {
        "id": "QmMS0gyktocS"
      },
      "outputs": [],
      "source": [
        "import numpy as np # 배열 연산 특화 라이브러리\n",
        "import pandas as pd # 데이터프레임\n",
        "import matplotlib.pyplot as pl # 시각화\n",
        "import tensorflow as tf # AI 모델 구축 (이 아래는 모델 구축에 필요한 세부 기능)\n",
        "from tensorflow import keras\n",
        "from keras import models, layers\n",
        "import keras.optimizers as op\n",
        "from keras.callbacks import ModelCheckpoint, TensorBoard\n",
        "from google.colab import files\n",
        "import io\n",
        "# f = files.upload()"
      ]
    },
    {
      "cell_type": "code",
      "source": [
        "data = pd.read_csv('/content/180801_RFB_510cy_006_DC.csv')\n",
        "data = data.drop(['시험_시간(s)', '사이클_번호', '사이클_시간(s)', '단계_번호', '단계_시간(s)', '인덱스', '보조전압1(V)', '보조전압2(V)', '보조전압3(V)', '온도(\\'C)', '전류_범위', 'OCP(V)', '파워(W)', '부하(Ohm)', '누적_용량(Ah)', '절대값_용량(Ah)'], axis = 1)\n",
        "data_voltage = data.copy()\n",
        "data_voltage = data_voltage.pop('전압(V)')"
      ],
      "metadata": {
        "id": "r1_YNNTCvGj0"
      },
      "execution_count": null,
      "outputs": []
    },
    {
      "cell_type": "code",
      "source": [
        "print(f'data rows = {data.shape[0]}')\n",
        "print(data.columns)\n",
        "data = data.values\n",
        "print(f'x = {data.shape}')\n",
        "print(f'y = {data_voltage.shape}')\n",
        "\n",
        "# for index in range(data.shape[0]):\n",
        "#     data[index, 0] = int(data[index, 0][3:5]) * 60 + int(data[index, 0][6:8])\n",
        "#     data[index, 2] = int(data[index, 2][3:5]) * 60 + int(data[index, 2][6:8])\n",
        "#     data[index, 4] = int(data[index, 4][3:5]) * 60 + int(data[index, 4][6:8])\n",
        "pl.plot(data_voltage[:4000])"
      ],
      "metadata": {
        "id": "lPXSujjIvJ1k"
      },
      "execution_count": null,
      "outputs": []
    },
    {
      "cell_type": "code",
      "source": [
        "seq_len = 200\n",
        "num_batch = int(np.floor(data.shape[0] / seq_len))\n",
        "print(f'num_batch = {num_batch}')\n",
        "x_data = []\n",
        "y_data = []\n",
        "for batch in range(num_batch):\n",
        "    x_data.append(data[batch * seq_len:(batch + 1) * seq_len])\n",
        "    y_data.append(data_voltage[batch * seq_len + 1:(batch + 1) * seq_len + 1])\n",
        "x_data = np.array(x_data).astype(np.float32)\n",
        "y_data = np.array(y_data).astype(np.float32)\n",
        "print(f'x = {x_data.shape}')\n",
        "print(f'y = {y_data.shape}')\n",
        "print(x_data[0, 0:6, 1])\n",
        "print(y_data[0, 0:5])"
      ],
      "metadata": {
        "id": "13UF2HcvvRYN"
      },
      "execution_count": null,
      "outputs": []
    },
    {
      "cell_type": "code",
      "source": [
        "split_len = int(round(num_batch * 0.75))\n",
        "print(split_len)\n",
        "x_train = x_data[:split_len]\n",
        "y_train = y_data[:split_len]\n",
        "x_test = x_data[split_len:]\n",
        "y_test = y_data[split_len:]\n",
        "print(y_train.shape)\n",
        "\n",
        "## 데이터 전처리 끝"
      ],
      "metadata": {
        "id": "w-wojZRJvUZX"
      },
      "execution_count": null,
      "outputs": []
    },
    {
      "cell_type": "code",
      "source": [
        "loss_dict = {}\n",
        "num_units = 256\n",
        "num_epochs = 200\n",
        "batch_size = 123\n",
        "batch_index = 0\n",
        "adam = Adam()\n",
        "model = models.Sequential()\n",
        "model.add(layers.LSTM(num_units, input_shape=(None, x_train.shape[2]), return_sequences=True))\n",
        "model.add(layers.Dropout(0.2))\n",
        "model.add(layers.LSTM(num_units, return_sequences=True))\n",
        "model.add(layers.Dropout(0.2))\n",
        "model.add(layers.TimeDistributed(layers.Dense(1)))\n",
        "model.compile(loss = 'mse', optimizer=adam)\n",
        "callback_list = [ModelCheckpoint(filepath = f'Checkpoints\\SOC_Checkpoint_{seq_len}.h5', monitor = 'val_loss', save_best_only = True)]\n",
        "model.summary()"
      ],
      "metadata": {
        "id": "3JHm-s8_vXKb"
      },
      "execution_count": null,
      "outputs": []
    },
    {
      "cell_type": "code",
      "source": [
        "#200\n",
        "batch_index += batch_size\n",
        "fitdata = model.fit(x_train, y_train, epochs=num_epochs, verbose = 0, validation_split=1/8, callbacks=callback_list, batch_size=batch_size)\n",
        "model.load_weights(f'Checkpoints\\SOC_Checkpoint_{seq_len}.h5')\n",
        "loss = model.evaluate(x_test, y_test)\n",
        "loss_dict[f'loss_{batch_index}'] = loss\n",
        "prediction = model.predict(x_test)\n",
        "prediction = prediction.reshape(int(prediction.shape[0] * prediction.shape[1]), 1)\n",
        "y_graph = y_test.reshape(int(y_test.shape[0] * y_test.shape[1]), 1)\n",
        "print(prediction.shape, y_graph.shape)\n",
        "print(f'{num_units} units, {batch_index} epochs, sequence length = {seq_len}')\n",
        "pl.figure(dpi=150)\n",
        "pl.plot(prediction[:4000])"
      ],
      "metadata": {
        "id": "F-tekwEGvaNI"
      },
      "execution_count": null,
      "outputs": []
    },
    {
      "cell_type": "code",
      "source": [
        "#400\n",
        "batch_index += batch_size\n",
        "fitdata = model.fit(x_train, y_train, epochs=num_epochs, verbose = 0, validation_split=1/8, callbacks=callback_list, batch_size=batch_size)\n",
        "model.load_weights(f'Checkpoints\\SOC_Checkpoint_{seq_len}.h5')\n",
        "loss = model.evaluate(x_test, y_test)\n",
        "loss_dict[f'loss_{batch_index}'] = loss\n",
        "prediction = model.predict(x_test)\n",
        "prediction = prediction.reshape(int(prediction.shape[0] * prediction.shape[1]), 1)\n",
        "y_graph = y_test.reshape(int(y_test.shape[0] * y_test.shape[1]), 1)\n",
        "print(prediction.shape, y_graph.shape)\n",
        "print(f'{num_units} units, {batch_index} epochs, sequence length = {seq_len}')\n",
        "pl.figure(dpi=150)\n",
        "pl.plot(prediction[:4000])"
      ],
      "metadata": {
        "id": "dxHKB-CwvcXo"
      },
      "execution_count": null,
      "outputs": []
    },
    {
      "cell_type": "code",
      "source": [
        "#600\n",
        "batch_index += batch_size\n",
        "fitdata = model.fit(x_train, y_train, epochs=num_epochs, verbose = 0, validation_split=1/8, callbacks=callback_list, batch_size=batch_size)\n",
        "model.load_weights(f'Checkpoints\\SOC_Checkpoint_{seq_len}.h5')\n",
        "loss = model.evaluate(x_test, y_test)\n",
        "loss_dict[f'loss_{batch_index}'] = loss\n",
        "prediction = model.predict(x_test)\n",
        "prediction = prediction.reshape(int(prediction.shape[0] * prediction.shape[1]), 1)\n",
        "y_graph = y_test.reshape(int(y_test.shape[0] * y_test.shape[1]), 1)\n",
        "print(prediction.shape, y_graph.shape)\n",
        "print(f'{num_units} units, {batch_index} epochs, sequence length = {seq_len}')\n",
        "pl.figure(dpi=150)\n",
        "pl.plot(prediction[:4000])"
      ],
      "metadata": {
        "id": "T_ra0oCFvfQq"
      },
      "execution_count": null,
      "outputs": []
    },
    {
      "cell_type": "code",
      "source": [
        "#800\n",
        "batch_index += batch_size\n",
        "fitdata = model.fit(x_train, y_train, epochs=num_epochs, verbose = 0, validation_split=1/8, callbacks=callback_list, batch_size=batch_size)\n",
        "model.load_weights(f'Checkpoints\\SOC_Checkpoint_{seq_len}.h5')\n",
        "loss = model.evaluate(x_test, y_test)\n",
        "loss_dict[f'loss_{batch_index}'] = loss\n",
        "prediction = model.predict(x_test)\n",
        "prediction = prediction.reshape(int(prediction.shape[0] * prediction.shape[1]), 1)\n",
        "y_graph = y_test.reshape(int(y_test.shape[0] * y_test.shape[1]), 1)\n",
        "print(prediction.shape, y_graph.shape)\n",
        "print(f'{num_units} units, {batch_index} epochs, sequence length = {seq_len}')\n",
        "pl.figure(dpi=150)\n",
        "pl.plot(prediction[:4000])"
      ],
      "metadata": {
        "id": "OoaJxKXxviP-"
      },
      "execution_count": null,
      "outputs": []
    },
    {
      "cell_type": "code",
      "source": [
        "#1000\n",
        "batch_index += batch_size\n",
        "fitdata = model.fit(x_train, y_train, epochs=num_epochs, verbose = 0, validation_split=1/8, callbacks=callback_list, batch_size=batch_size)\n",
        "model.load_weights(f'Checkpoints\\SOC_Checkpoint_{seq_len}.h5')\n",
        "loss = model.evaluate(x_test, y_test)\n",
        "loss_dict[f'loss_{batch_index}'] = loss\n",
        "prediction = model.predict(x_test)\n",
        "prediction = prediction.reshape(int(prediction.shape[0] * prediction.shape[1]), 1)\n",
        "y_graph = y_test.reshape(int(y_test.shape[0] * y_test.shape[1]), 1)\n",
        "print(prediction.shape, y_graph.shape)\n",
        "print(f'{num_units} units, {batch_index} epochs, sequence length = {seq_len}')\n",
        "pl.figure(dpi=150)\n",
        "pl.plot(prediction[:4000])\n",
        "print(loss_dict)"
      ],
      "metadata": {
        "id": "lPK6pwptvkAx"
      },
      "execution_count": null,
      "outputs": []
    }
  ]
}